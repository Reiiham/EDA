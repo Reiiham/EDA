{
 "cells": [
  {
   "cell_type": "code",
   "execution_count": 1,
   "id": "63a218f0",
   "metadata": {
    "_cell_guid": "b1076dfc-b9ad-4769-8c92-a6c4dae69d19",
    "_uuid": "8f2839f25d086af736a60e9eeb907d3b93b6e0e5",
    "execution": {
     "iopub.execute_input": "2024-03-18T18:32:28.197560Z",
     "iopub.status.busy": "2024-03-18T18:32:28.197072Z",
     "iopub.status.idle": "2024-03-18T18:32:31.010869Z",
     "shell.execute_reply": "2024-03-18T18:32:31.009171Z"
    },
    "papermill": {
     "duration": 2.831115,
     "end_time": "2024-03-18T18:32:31.014033",
     "exception": false,
     "start_time": "2024-03-18T18:32:28.182918",
     "status": "completed"
    },
    "tags": []
   },
   "outputs": [
    {
     "name": "stdout",
     "output_type": "stream",
     "text": [
      "/kaggle/input/imdb-top-250-movies-dataset/IMDB Top 250 Movies.csv\n"
     ]
    }
   ],
   "source": [
    "# This Python 3 environment comes with many helpful analytics libraries installed\n",
    "# It is defined by the kaggle/python Docker image: https://github.com/kaggle/docker-python\n",
    "# For example, here's several helpful packages to load\n",
    "\n",
    "import numpy as np # linear algebra\n",
    "import pandas as pd # data processing, CSV file I/O (e.g. pd.read_csv)\n",
    "import seaborn as sns\n",
    "import matplotlib.pyplot as plt\n",
    "\n",
    "# Input data files are available in the read-only \"../input/\" directory\n",
    "# For example, running this (by clicking run or pressing Shift+Enter) will list all files under the input directory\n",
    "\n",
    "import os\n",
    "for dirname, _, filenames in os.walk('/kaggle/input'):\n",
    "    for filename in filenames:\n",
    "        print(os.path.join(dirname, filename))\n",
    "\n",
    "# You can write up to 20GB to the current directory (/kaggle/working/) that gets preserved as output when you create a version using \"Save & Run All\" \n",
    "# You can also write temporary files to /kaggle/temp/, but they won't be saved outside of the current session"
   ]
  },
  {
   "cell_type": "code",
   "execution_count": 2,
   "id": "a51f9275",
   "metadata": {
    "execution": {
     "iopub.execute_input": "2024-03-18T18:32:31.036382Z",
     "iopub.status.busy": "2024-03-18T18:32:31.035715Z",
     "iopub.status.idle": "2024-03-18T18:32:31.069643Z",
     "shell.execute_reply": "2024-03-18T18:32:31.068542Z"
    },
    "papermill": {
     "duration": 0.049254,
     "end_time": "2024-03-18T18:32:31.072863",
     "exception": false,
     "start_time": "2024-03-18T18:32:31.023609",
     "status": "completed"
    },
    "tags": []
   },
   "outputs": [],
   "source": [
    "data=pd.read_csv('/kaggle/input/imdb-top-250-movies-dataset/IMDB Top 250 Movies.csv')"
   ]
  },
  {
   "cell_type": "code",
   "execution_count": 3,
   "id": "db2fee2d",
   "metadata": {
    "execution": {
     "iopub.execute_input": "2024-03-18T18:32:31.094657Z",
     "iopub.status.busy": "2024-03-18T18:32:31.093953Z",
     "iopub.status.idle": "2024-03-18T18:32:31.124208Z",
     "shell.execute_reply": "2024-03-18T18:32:31.122779Z"
    },
    "papermill": {
     "duration": 0.044969,
     "end_time": "2024-03-18T18:32:31.127630",
     "exception": false,
     "start_time": "2024-03-18T18:32:31.082661",
     "status": "completed"
    },
    "tags": []
   },
   "outputs": [
    {
     "data": {
      "text/html": [
       "<div>\n",
       "<style scoped>\n",
       "    .dataframe tbody tr th:only-of-type {\n",
       "        vertical-align: middle;\n",
       "    }\n",
       "\n",
       "    .dataframe tbody tr th {\n",
       "        vertical-align: top;\n",
       "    }\n",
       "\n",
       "    .dataframe thead th {\n",
       "        text-align: right;\n",
       "    }\n",
       "</style>\n",
       "<table border=\"1\" class=\"dataframe\">\n",
       "  <thead>\n",
       "    <tr style=\"text-align: right;\">\n",
       "      <th></th>\n",
       "      <th>rank</th>\n",
       "      <th>name</th>\n",
       "      <th>year</th>\n",
       "      <th>rating</th>\n",
       "      <th>genre</th>\n",
       "      <th>certificate</th>\n",
       "      <th>run_time</th>\n",
       "      <th>tagline</th>\n",
       "      <th>budget</th>\n",
       "      <th>box_office</th>\n",
       "      <th>casts</th>\n",
       "      <th>directors</th>\n",
       "      <th>writers</th>\n",
       "    </tr>\n",
       "  </thead>\n",
       "  <tbody>\n",
       "    <tr>\n",
       "      <th>0</th>\n",
       "      <td>1</td>\n",
       "      <td>The Shawshank Redemption</td>\n",
       "      <td>1994</td>\n",
       "      <td>9.3</td>\n",
       "      <td>Drama</td>\n",
       "      <td>R</td>\n",
       "      <td>2h 22m</td>\n",
       "      <td>Fear can hold you prisoner. Hope can set you f...</td>\n",
       "      <td>25000000</td>\n",
       "      <td>28884504</td>\n",
       "      <td>Tim Robbins,Morgan Freeman,Bob Gunton,William ...</td>\n",
       "      <td>Frank Darabont</td>\n",
       "      <td>Stephen King,Frank Darabont</td>\n",
       "    </tr>\n",
       "    <tr>\n",
       "      <th>1</th>\n",
       "      <td>2</td>\n",
       "      <td>The Godfather</td>\n",
       "      <td>1972</td>\n",
       "      <td>9.2</td>\n",
       "      <td>Crime,Drama</td>\n",
       "      <td>R</td>\n",
       "      <td>2h 55m</td>\n",
       "      <td>An offer you can't refuse.</td>\n",
       "      <td>6000000</td>\n",
       "      <td>250341816</td>\n",
       "      <td>Marlon Brando,Al Pacino,James Caan,Diane Keato...</td>\n",
       "      <td>Francis Ford Coppola</td>\n",
       "      <td>Mario Puzo,Francis Ford Coppola</td>\n",
       "    </tr>\n",
       "    <tr>\n",
       "      <th>2</th>\n",
       "      <td>3</td>\n",
       "      <td>The Dark Knight</td>\n",
       "      <td>2008</td>\n",
       "      <td>9.0</td>\n",
       "      <td>Action,Crime,Drama</td>\n",
       "      <td>PG-13</td>\n",
       "      <td>2h 32m</td>\n",
       "      <td>Why So Serious?</td>\n",
       "      <td>185000000</td>\n",
       "      <td>1006234167</td>\n",
       "      <td>Christian Bale,Heath Ledger,Aaron Eckhart,Mich...</td>\n",
       "      <td>Christopher Nolan</td>\n",
       "      <td>Jonathan Nolan,Christopher Nolan,David S. Goyer</td>\n",
       "    </tr>\n",
       "    <tr>\n",
       "      <th>3</th>\n",
       "      <td>4</td>\n",
       "      <td>The Godfather Part II</td>\n",
       "      <td>1974</td>\n",
       "      <td>9.0</td>\n",
       "      <td>Crime,Drama</td>\n",
       "      <td>R</td>\n",
       "      <td>3h 22m</td>\n",
       "      <td>All the power on earth can't change destiny.</td>\n",
       "      <td>13000000</td>\n",
       "      <td>47961919</td>\n",
       "      <td>Al Pacino,Robert De Niro,Robert Duvall,Diane K...</td>\n",
       "      <td>Francis Ford Coppola</td>\n",
       "      <td>Francis Ford Coppola,Mario Puzo</td>\n",
       "    </tr>\n",
       "    <tr>\n",
       "      <th>4</th>\n",
       "      <td>5</td>\n",
       "      <td>12 Angry Men</td>\n",
       "      <td>1957</td>\n",
       "      <td>9.0</td>\n",
       "      <td>Crime,Drama</td>\n",
       "      <td>Approved</td>\n",
       "      <td>1h 36m</td>\n",
       "      <td>Life Is In Their Hands -- Death Is On Their Mi...</td>\n",
       "      <td>350000</td>\n",
       "      <td>955</td>\n",
       "      <td>Henry Fonda,Lee J. Cobb,Martin Balsam,John Fie...</td>\n",
       "      <td>Sidney Lumet</td>\n",
       "      <td>Reginald Rose</td>\n",
       "    </tr>\n",
       "    <tr>\n",
       "      <th>5</th>\n",
       "      <td>6</td>\n",
       "      <td>Schindler's List</td>\n",
       "      <td>1993</td>\n",
       "      <td>9.0</td>\n",
       "      <td>Biography,Drama,History</td>\n",
       "      <td>R</td>\n",
       "      <td>3h 15m</td>\n",
       "      <td>Whoever saves one life, saves the world entire.</td>\n",
       "      <td>22000000</td>\n",
       "      <td>322161245</td>\n",
       "      <td>Liam Neeson,Ralph Fiennes,Ben Kingsley,Carolin...</td>\n",
       "      <td>Steven Spielberg</td>\n",
       "      <td>Thomas Keneally,Steven Zaillian</td>\n",
       "    </tr>\n",
       "    <tr>\n",
       "      <th>6</th>\n",
       "      <td>7</td>\n",
       "      <td>The Lord of the Rings: The Return of the King</td>\n",
       "      <td>2003</td>\n",
       "      <td>9.0</td>\n",
       "      <td>Action,Adventure,Drama</td>\n",
       "      <td>PG-13</td>\n",
       "      <td>3h 21m</td>\n",
       "      <td>The eye of the enemy is moving.</td>\n",
       "      <td>94000000</td>\n",
       "      <td>1146457748</td>\n",
       "      <td>Elijah Wood,Viggo Mortensen,Ian McKellen,Orlan...</td>\n",
       "      <td>Peter Jackson</td>\n",
       "      <td>J.R.R. Tolkien,Fran Walsh,Philippa Boyens</td>\n",
       "    </tr>\n",
       "    <tr>\n",
       "      <th>7</th>\n",
       "      <td>8</td>\n",
       "      <td>Pulp Fiction</td>\n",
       "      <td>1994</td>\n",
       "      <td>8.9</td>\n",
       "      <td>Crime,Drama</td>\n",
       "      <td>R</td>\n",
       "      <td>2h 34m</td>\n",
       "      <td>Girls like me don't make invitations like this...</td>\n",
       "      <td>8000000</td>\n",
       "      <td>213928762</td>\n",
       "      <td>John Travolta,Uma Thurman,Samuel L. Jackson,Br...</td>\n",
       "      <td>Quentin Tarantino</td>\n",
       "      <td>Quentin Tarantino,Roger Avary</td>\n",
       "    </tr>\n",
       "    <tr>\n",
       "      <th>8</th>\n",
       "      <td>9</td>\n",
       "      <td>The Lord of the Rings: The Fellowship of the Ring</td>\n",
       "      <td>2001</td>\n",
       "      <td>8.8</td>\n",
       "      <td>Action,Adventure,Drama</td>\n",
       "      <td>PG-13</td>\n",
       "      <td>2h 58m</td>\n",
       "      <td>The Legend Comes to Life</td>\n",
       "      <td>93000000</td>\n",
       "      <td>898204420</td>\n",
       "      <td>Elijah Wood,Ian McKellen,Orlando Bloom,Sean Be...</td>\n",
       "      <td>Peter Jackson</td>\n",
       "      <td>J.R.R. Tolkien,Fran Walsh,Philippa Boyens</td>\n",
       "    </tr>\n",
       "    <tr>\n",
       "      <th>9</th>\n",
       "      <td>10</td>\n",
       "      <td>The Good, the Bad and the Ugly</td>\n",
       "      <td>1966</td>\n",
       "      <td>8.8</td>\n",
       "      <td>Adventure,Western</td>\n",
       "      <td>Approved</td>\n",
       "      <td>2h 58m</td>\n",
       "      <td>They formed an alliance of hate to steal a for...</td>\n",
       "      <td>1200000</td>\n",
       "      <td>25253887</td>\n",
       "      <td>Clint Eastwood,Eli Wallach,Lee Van Cleef,Aldo ...</td>\n",
       "      <td>Sergio Leone</td>\n",
       "      <td>Luciano Vincenzoni,Sergio Leone,Agenore Incrocci</td>\n",
       "    </tr>\n",
       "  </tbody>\n",
       "</table>\n",
       "</div>"
      ],
      "text/plain": [
       "   rank                                               name  year  rating  \\\n",
       "0     1                           The Shawshank Redemption  1994     9.3   \n",
       "1     2                                      The Godfather  1972     9.2   \n",
       "2     3                                    The Dark Knight  2008     9.0   \n",
       "3     4                              The Godfather Part II  1974     9.0   \n",
       "4     5                                       12 Angry Men  1957     9.0   \n",
       "5     6                                   Schindler's List  1993     9.0   \n",
       "6     7      The Lord of the Rings: The Return of the King  2003     9.0   \n",
       "7     8                                       Pulp Fiction  1994     8.9   \n",
       "8     9  The Lord of the Rings: The Fellowship of the Ring  2001     8.8   \n",
       "9    10                     The Good, the Bad and the Ugly  1966     8.8   \n",
       "\n",
       "                     genre certificate run_time  \\\n",
       "0                    Drama           R   2h 22m   \n",
       "1              Crime,Drama           R   2h 55m   \n",
       "2       Action,Crime,Drama       PG-13   2h 32m   \n",
       "3              Crime,Drama           R   3h 22m   \n",
       "4              Crime,Drama    Approved   1h 36m   \n",
       "5  Biography,Drama,History           R   3h 15m   \n",
       "6   Action,Adventure,Drama       PG-13   3h 21m   \n",
       "7              Crime,Drama           R   2h 34m   \n",
       "8   Action,Adventure,Drama       PG-13   2h 58m   \n",
       "9        Adventure,Western    Approved   2h 58m   \n",
       "\n",
       "                                             tagline     budget  box_office  \\\n",
       "0  Fear can hold you prisoner. Hope can set you f...   25000000    28884504   \n",
       "1                         An offer you can't refuse.    6000000   250341816   \n",
       "2                                    Why So Serious?  185000000  1006234167   \n",
       "3       All the power on earth can't change destiny.   13000000    47961919   \n",
       "4  Life Is In Their Hands -- Death Is On Their Mi...     350000         955   \n",
       "5    Whoever saves one life, saves the world entire.   22000000   322161245   \n",
       "6                    The eye of the enemy is moving.   94000000  1146457748   \n",
       "7  Girls like me don't make invitations like this...    8000000   213928762   \n",
       "8                           The Legend Comes to Life   93000000   898204420   \n",
       "9  They formed an alliance of hate to steal a for...    1200000    25253887   \n",
       "\n",
       "                                               casts             directors  \\\n",
       "0  Tim Robbins,Morgan Freeman,Bob Gunton,William ...        Frank Darabont   \n",
       "1  Marlon Brando,Al Pacino,James Caan,Diane Keato...  Francis Ford Coppola   \n",
       "2  Christian Bale,Heath Ledger,Aaron Eckhart,Mich...     Christopher Nolan   \n",
       "3  Al Pacino,Robert De Niro,Robert Duvall,Diane K...  Francis Ford Coppola   \n",
       "4  Henry Fonda,Lee J. Cobb,Martin Balsam,John Fie...          Sidney Lumet   \n",
       "5  Liam Neeson,Ralph Fiennes,Ben Kingsley,Carolin...      Steven Spielberg   \n",
       "6  Elijah Wood,Viggo Mortensen,Ian McKellen,Orlan...         Peter Jackson   \n",
       "7  John Travolta,Uma Thurman,Samuel L. Jackson,Br...     Quentin Tarantino   \n",
       "8  Elijah Wood,Ian McKellen,Orlando Bloom,Sean Be...         Peter Jackson   \n",
       "9  Clint Eastwood,Eli Wallach,Lee Van Cleef,Aldo ...          Sergio Leone   \n",
       "\n",
       "                                            writers  \n",
       "0                       Stephen King,Frank Darabont  \n",
       "1                   Mario Puzo,Francis Ford Coppola  \n",
       "2   Jonathan Nolan,Christopher Nolan,David S. Goyer  \n",
       "3                   Francis Ford Coppola,Mario Puzo  \n",
       "4                                     Reginald Rose  \n",
       "5                   Thomas Keneally,Steven Zaillian  \n",
       "6         J.R.R. Tolkien,Fran Walsh,Philippa Boyens  \n",
       "7                     Quentin Tarantino,Roger Avary  \n",
       "8         J.R.R. Tolkien,Fran Walsh,Philippa Boyens  \n",
       "9  Luciano Vincenzoni,Sergio Leone,Agenore Incrocci  "
      ]
     },
     "execution_count": 3,
     "metadata": {},
     "output_type": "execute_result"
    }
   ],
   "source": [
    "#display the first 10 rows of the dataset\n",
    "data.head(10)"
   ]
  },
  {
   "cell_type": "code",
   "execution_count": 4,
   "id": "52ef1904",
   "metadata": {
    "execution": {
     "iopub.execute_input": "2024-03-18T18:32:31.149755Z",
     "iopub.status.busy": "2024-03-18T18:32:31.149099Z",
     "iopub.status.idle": "2024-03-18T18:32:31.170790Z",
     "shell.execute_reply": "2024-03-18T18:32:31.169353Z"
    },
    "papermill": {
     "duration": 0.035843,
     "end_time": "2024-03-18T18:32:31.173513",
     "exception": false,
     "start_time": "2024-03-18T18:32:31.137670",
     "status": "completed"
    },
    "tags": []
   },
   "outputs": [
    {
     "data": {
      "text/html": [
       "<div>\n",
       "<style scoped>\n",
       "    .dataframe tbody tr th:only-of-type {\n",
       "        vertical-align: middle;\n",
       "    }\n",
       "\n",
       "    .dataframe tbody tr th {\n",
       "        vertical-align: top;\n",
       "    }\n",
       "\n",
       "    .dataframe thead th {\n",
       "        text-align: right;\n",
       "    }\n",
       "</style>\n",
       "<table border=\"1\" class=\"dataframe\">\n",
       "  <thead>\n",
       "    <tr style=\"text-align: right;\">\n",
       "      <th></th>\n",
       "      <th>rank</th>\n",
       "      <th>name</th>\n",
       "      <th>year</th>\n",
       "      <th>rating</th>\n",
       "      <th>genre</th>\n",
       "      <th>certificate</th>\n",
       "      <th>run_time</th>\n",
       "      <th>tagline</th>\n",
       "      <th>budget</th>\n",
       "      <th>box_office</th>\n",
       "      <th>casts</th>\n",
       "      <th>directors</th>\n",
       "      <th>writers</th>\n",
       "    </tr>\n",
       "  </thead>\n",
       "  <tbody>\n",
       "    <tr>\n",
       "      <th>240</th>\n",
       "      <td>241</td>\n",
       "      <td>The Sound of Music</td>\n",
       "      <td>1965</td>\n",
       "      <td>8.1</td>\n",
       "      <td>Biography,Drama,Family</td>\n",
       "      <td>G</td>\n",
       "      <td>2h 52m</td>\n",
       "      <td>RADIANCE THAT FLOODS THE SCREEN...AND WARMS TH...</td>\n",
       "      <td>8200000</td>\n",
       "      <td>159428329</td>\n",
       "      <td>Julie Andrews,Christopher Plummer,Eleanor Park...</td>\n",
       "      <td>Robert Wise</td>\n",
       "      <td>Georg Hurdalek,Howard Lindsay,Russel Crouse</td>\n",
       "    </tr>\n",
       "    <tr>\n",
       "      <th>241</th>\n",
       "      <td>242</td>\n",
       "      <td>It Happened One Night</td>\n",
       "      <td>1934</td>\n",
       "      <td>8.1</td>\n",
       "      <td>Comedy,Romance</td>\n",
       "      <td>Passed</td>\n",
       "      <td>1h 45m</td>\n",
       "      <td>Two great lovers of the screen in the grandest...</td>\n",
       "      <td>325000</td>\n",
       "      <td>11477</td>\n",
       "      <td>Clark Gable,Claudette Colbert,Walter Connolly,...</td>\n",
       "      <td>Frank Capra</td>\n",
       "      <td>Robert Riskin,Samuel Hopkins Adams</td>\n",
       "    </tr>\n",
       "    <tr>\n",
       "      <th>242</th>\n",
       "      <td>243</td>\n",
       "      <td>Persona</td>\n",
       "      <td>1966</td>\n",
       "      <td>8.1</td>\n",
       "      <td>Drama,Thriller</td>\n",
       "      <td>Not Rated</td>\n",
       "      <td>1h 23m</td>\n",
       "      <td>A new film by Ingmar Bergman</td>\n",
       "      <td>Not Available</td>\n",
       "      <td>Not Available</td>\n",
       "      <td>Bibi Andersson,Liv Ullmann,Margaretha Krook,Gu...</td>\n",
       "      <td>Ingmar Bergman</td>\n",
       "      <td>Ingmar Bergman</td>\n",
       "    </tr>\n",
       "    <tr>\n",
       "      <th>243</th>\n",
       "      <td>244</td>\n",
       "      <td>Life of Brian</td>\n",
       "      <td>1979</td>\n",
       "      <td>8.0</td>\n",
       "      <td>Comedy</td>\n",
       "      <td>R</td>\n",
       "      <td>1h 34m</td>\n",
       "      <td>A motion picture destined to offend nearly two...</td>\n",
       "      <td>4000000</td>\n",
       "      <td>20745728</td>\n",
       "      <td>Graham Chapman,John Cleese,Michael Palin,Terry...</td>\n",
       "      <td>Terry Jones</td>\n",
       "      <td>Graham Chapman,John Cleese,Terry Gilliam</td>\n",
       "    </tr>\n",
       "    <tr>\n",
       "      <th>244</th>\n",
       "      <td>245</td>\n",
       "      <td>The Iron Giant</td>\n",
       "      <td>1999</td>\n",
       "      <td>8.1</td>\n",
       "      <td>Animation,Action,Adventure</td>\n",
       "      <td>PG</td>\n",
       "      <td>1h 26m</td>\n",
       "      <td>Some secrets are too huge to hide</td>\n",
       "      <td>70000000</td>\n",
       "      <td>23335817</td>\n",
       "      <td>Eli Marienthal,Harry Connick Jr.,Jennifer Anis...</td>\n",
       "      <td>Brad Bird</td>\n",
       "      <td>Tim McCanlies,Brad Bird,Ted Hughes</td>\n",
       "    </tr>\n",
       "    <tr>\n",
       "      <th>245</th>\n",
       "      <td>246</td>\n",
       "      <td>The Help</td>\n",
       "      <td>2011</td>\n",
       "      <td>8.1</td>\n",
       "      <td>Drama</td>\n",
       "      <td>PG-13</td>\n",
       "      <td>2h 26m</td>\n",
       "      <td>Change begins with a whisper.</td>\n",
       "      <td>25000000</td>\n",
       "      <td>216639112</td>\n",
       "      <td>Viola Davis,Emma Stone,Octavia Spencer,Bryce D...</td>\n",
       "      <td>Tate Taylor</td>\n",
       "      <td>Tate Taylor,Kathryn Stockett</td>\n",
       "    </tr>\n",
       "    <tr>\n",
       "      <th>246</th>\n",
       "      <td>247</td>\n",
       "      <td>Dersu Uzala</td>\n",
       "      <td>1975</td>\n",
       "      <td>8.2</td>\n",
       "      <td>Adventure,Biography,Drama</td>\n",
       "      <td>G</td>\n",
       "      <td>2h 22m</td>\n",
       "      <td>There is man and beast at nature's mercy. Ther...</td>\n",
       "      <td>4000000</td>\n",
       "      <td>14480</td>\n",
       "      <td>Maksim Munzuk,Yuriy Solomin,Mikhail Bychkov,Vl...</td>\n",
       "      <td>Akira Kurosawa</td>\n",
       "      <td>Akira Kurosawa,Yuriy Nagibin,Vladimir Arsenev</td>\n",
       "    </tr>\n",
       "    <tr>\n",
       "      <th>247</th>\n",
       "      <td>248</td>\n",
       "      <td>Aladdin</td>\n",
       "      <td>1992</td>\n",
       "      <td>8.0</td>\n",
       "      <td>Animation,Adventure,Comedy</td>\n",
       "      <td>G</td>\n",
       "      <td>1h 30m</td>\n",
       "      <td>Wish granted! (DVD re-release)</td>\n",
       "      <td>Not Available</td>\n",
       "      <td>Not Available</td>\n",
       "      <td>Scott Weinger,Robin Williams,Linda Larkin,Jona...</td>\n",
       "      <td>Ron Clements,John Musker</td>\n",
       "      <td>Ron Clements,John Musker,Ted Elliott</td>\n",
       "    </tr>\n",
       "    <tr>\n",
       "      <th>248</th>\n",
       "      <td>249</td>\n",
       "      <td>Gandhi</td>\n",
       "      <td>1982</td>\n",
       "      <td>8.0</td>\n",
       "      <td>Biography,Drama,History</td>\n",
       "      <td>PG</td>\n",
       "      <td>3h 11m</td>\n",
       "      <td>His Triumph Changed The World Forever.</td>\n",
       "      <td>22000000</td>\n",
       "      <td>52767889</td>\n",
       "      <td>Ben Kingsley,John Gielgud,Rohini Hattangadi,Ro...</td>\n",
       "      <td>Richard Attenborough</td>\n",
       "      <td>John Briley</td>\n",
       "    </tr>\n",
       "    <tr>\n",
       "      <th>249</th>\n",
       "      <td>250</td>\n",
       "      <td>Dances with Wolves</td>\n",
       "      <td>1990</td>\n",
       "      <td>8.0</td>\n",
       "      <td>Adventure,Drama,Western</td>\n",
       "      <td>PG-13</td>\n",
       "      <td>3h 1m</td>\n",
       "      <td>Inside everyone is a frontier waiting to be di...</td>\n",
       "      <td>22000000</td>\n",
       "      <td>424208848</td>\n",
       "      <td>Kevin Costner,Mary McDonnell,Graham Greene,Rod...</td>\n",
       "      <td>Kevin Costner</td>\n",
       "      <td>Michael Blake</td>\n",
       "    </tr>\n",
       "  </tbody>\n",
       "</table>\n",
       "</div>"
      ],
      "text/plain": [
       "     rank                   name  year  rating                       genre  \\\n",
       "240   241     The Sound of Music  1965     8.1      Biography,Drama,Family   \n",
       "241   242  It Happened One Night  1934     8.1              Comedy,Romance   \n",
       "242   243                Persona  1966     8.1              Drama,Thriller   \n",
       "243   244          Life of Brian  1979     8.0                      Comedy   \n",
       "244   245         The Iron Giant  1999     8.1  Animation,Action,Adventure   \n",
       "245   246               The Help  2011     8.1                       Drama   \n",
       "246   247            Dersu Uzala  1975     8.2   Adventure,Biography,Drama   \n",
       "247   248                Aladdin  1992     8.0  Animation,Adventure,Comedy   \n",
       "248   249                 Gandhi  1982     8.0     Biography,Drama,History   \n",
       "249   250     Dances with Wolves  1990     8.0     Adventure,Drama,Western   \n",
       "\n",
       "    certificate run_time                                            tagline  \\\n",
       "240           G   2h 52m  RADIANCE THAT FLOODS THE SCREEN...AND WARMS TH...   \n",
       "241      Passed   1h 45m  Two great lovers of the screen in the grandest...   \n",
       "242   Not Rated   1h 23m                       A new film by Ingmar Bergman   \n",
       "243           R   1h 34m  A motion picture destined to offend nearly two...   \n",
       "244          PG   1h 26m                  Some secrets are too huge to hide   \n",
       "245       PG-13   2h 26m                      Change begins with a whisper.   \n",
       "246           G   2h 22m  There is man and beast at nature's mercy. Ther...   \n",
       "247           G   1h 30m                     Wish granted! (DVD re-release)   \n",
       "248          PG   3h 11m             His Triumph Changed The World Forever.   \n",
       "249       PG-13    3h 1m  Inside everyone is a frontier waiting to be di...   \n",
       "\n",
       "            budget     box_office  \\\n",
       "240        8200000      159428329   \n",
       "241         325000          11477   \n",
       "242  Not Available  Not Available   \n",
       "243        4000000       20745728   \n",
       "244       70000000       23335817   \n",
       "245       25000000      216639112   \n",
       "246        4000000          14480   \n",
       "247  Not Available  Not Available   \n",
       "248       22000000       52767889   \n",
       "249       22000000      424208848   \n",
       "\n",
       "                                                 casts  \\\n",
       "240  Julie Andrews,Christopher Plummer,Eleanor Park...   \n",
       "241  Clark Gable,Claudette Colbert,Walter Connolly,...   \n",
       "242  Bibi Andersson,Liv Ullmann,Margaretha Krook,Gu...   \n",
       "243  Graham Chapman,John Cleese,Michael Palin,Terry...   \n",
       "244  Eli Marienthal,Harry Connick Jr.,Jennifer Anis...   \n",
       "245  Viola Davis,Emma Stone,Octavia Spencer,Bryce D...   \n",
       "246  Maksim Munzuk,Yuriy Solomin,Mikhail Bychkov,Vl...   \n",
       "247  Scott Weinger,Robin Williams,Linda Larkin,Jona...   \n",
       "248  Ben Kingsley,John Gielgud,Rohini Hattangadi,Ro...   \n",
       "249  Kevin Costner,Mary McDonnell,Graham Greene,Rod...   \n",
       "\n",
       "                    directors                                        writers  \n",
       "240               Robert Wise    Georg Hurdalek,Howard Lindsay,Russel Crouse  \n",
       "241               Frank Capra             Robert Riskin,Samuel Hopkins Adams  \n",
       "242            Ingmar Bergman                                 Ingmar Bergman  \n",
       "243               Terry Jones       Graham Chapman,John Cleese,Terry Gilliam  \n",
       "244                 Brad Bird             Tim McCanlies,Brad Bird,Ted Hughes  \n",
       "245               Tate Taylor                   Tate Taylor,Kathryn Stockett  \n",
       "246            Akira Kurosawa  Akira Kurosawa,Yuriy Nagibin,Vladimir Arsenev  \n",
       "247  Ron Clements,John Musker           Ron Clements,John Musker,Ted Elliott  \n",
       "248      Richard Attenborough                                    John Briley  \n",
       "249             Kevin Costner                                  Michael Blake  "
      ]
     },
     "execution_count": 4,
     "metadata": {},
     "output_type": "execute_result"
    }
   ],
   "source": [
    "#display last 10 rows of the dataset \n",
    "data.tail(10)"
   ]
  },
  {
   "cell_type": "code",
   "execution_count": 5,
   "id": "0eb00a0a",
   "metadata": {
    "execution": {
     "iopub.execute_input": "2024-03-18T18:32:31.197646Z",
     "iopub.status.busy": "2024-03-18T18:32:31.196461Z",
     "iopub.status.idle": "2024-03-18T18:32:31.202996Z",
     "shell.execute_reply": "2024-03-18T18:32:31.202157Z"
    },
    "papermill": {
     "duration": 0.021533,
     "end_time": "2024-03-18T18:32:31.205759",
     "exception": false,
     "start_time": "2024-03-18T18:32:31.184226",
     "status": "completed"
    },
    "tags": []
   },
   "outputs": [
    {
     "name": "stdout",
     "output_type": "stream",
     "text": [
      "Number of movies: 250\n",
      "Number of variables: 13\n"
     ]
    }
   ],
   "source": [
    "#shape of the dataset\n",
    "data.shape\n",
    "print(\"Number of movies:\",data.shape[0])\n",
    "print(\"Number of variables:\",data.shape[1])"
   ]
  },
  {
   "cell_type": "code",
   "execution_count": 6,
   "id": "e02b103f",
   "metadata": {
    "execution": {
     "iopub.execute_input": "2024-03-18T18:32:31.230680Z",
     "iopub.status.busy": "2024-03-18T18:32:31.229540Z",
     "iopub.status.idle": "2024-03-18T18:32:31.262047Z",
     "shell.execute_reply": "2024-03-18T18:32:31.260859Z"
    },
    "papermill": {
     "duration": 0.048154,
     "end_time": "2024-03-18T18:32:31.264945",
     "exception": false,
     "start_time": "2024-03-18T18:32:31.216791",
     "status": "completed"
    },
    "tags": []
   },
   "outputs": [
    {
     "name": "stdout",
     "output_type": "stream",
     "text": [
      "<class 'pandas.core.frame.DataFrame'>\n",
      "RangeIndex: 250 entries, 0 to 249\n",
      "Data columns (total 13 columns):\n",
      " #   Column       Non-Null Count  Dtype  \n",
      "---  ------       --------------  -----  \n",
      " 0   rank         250 non-null    int64  \n",
      " 1   name         250 non-null    object \n",
      " 2   year         250 non-null    int64  \n",
      " 3   rating       250 non-null    float64\n",
      " 4   genre        250 non-null    object \n",
      " 5   certificate  250 non-null    object \n",
      " 6   run_time     250 non-null    object \n",
      " 7   tagline      250 non-null    object \n",
      " 8   budget       250 non-null    object \n",
      " 9   box_office   250 non-null    object \n",
      " 10  casts        250 non-null    object \n",
      " 11  directors    250 non-null    object \n",
      " 12  writers      250 non-null    object \n",
      "dtypes: float64(1), int64(2), object(10)\n",
      "memory usage: 25.5+ KB\n"
     ]
    }
   ],
   "source": [
    "data.info()"
   ]
  },
  {
   "cell_type": "markdown",
   "id": "bbc828d5",
   "metadata": {
    "papermill": {
     "duration": 0.010746,
     "end_time": "2024-03-18T18:32:31.286644",
     "exception": false,
     "start_time": "2024-03-18T18:32:31.275898",
     "status": "completed"
    },
    "tags": []
   },
   "source": [
    "Rows: 250 movies\n",
    "Columns: 1 float,2 integers and 10 objects\n"
   ]
  },
  {
   "cell_type": "code",
   "execution_count": 7,
   "id": "0d31a612",
   "metadata": {
    "execution": {
     "iopub.execute_input": "2024-03-18T18:32:31.310962Z",
     "iopub.status.busy": "2024-03-18T18:32:31.310550Z",
     "iopub.status.idle": "2024-03-18T18:32:31.318719Z",
     "shell.execute_reply": "2024-03-18T18:32:31.317437Z"
    },
    "papermill": {
     "duration": 0.02328,
     "end_time": "2024-03-18T18:32:31.321395",
     "exception": false,
     "start_time": "2024-03-18T18:32:31.298115",
     "status": "completed"
    },
    "tags": []
   },
   "outputs": [
    {
     "data": {
      "text/plain": [
       "False"
      ]
     },
     "execution_count": 7,
     "metadata": {},
     "output_type": "execute_result"
    }
   ],
   "source": [
    "#check missing values\n",
    "data.isnull().values.any()"
   ]
  },
  {
   "cell_type": "code",
   "execution_count": 8,
   "id": "3b54ab5c",
   "metadata": {
    "execution": {
     "iopub.execute_input": "2024-03-18T18:32:31.347406Z",
     "iopub.status.busy": "2024-03-18T18:32:31.346309Z",
     "iopub.status.idle": "2024-03-18T18:32:31.359295Z",
     "shell.execute_reply": "2024-03-18T18:32:31.357753Z"
    },
    "papermill": {
     "duration": 0.028682,
     "end_time": "2024-03-18T18:32:31.362203",
     "exception": false,
     "start_time": "2024-03-18T18:32:31.333521",
     "status": "completed"
    },
    "tags": []
   },
   "outputs": [
    {
     "data": {
      "text/plain": [
       "False"
      ]
     },
     "execution_count": 8,
     "metadata": {},
     "output_type": "execute_result"
    }
   ],
   "source": [
    "#check duplicate values \n",
    "data.duplicated().any()"
   ]
  },
  {
   "cell_type": "code",
   "execution_count": 9,
   "id": "74e8a255",
   "metadata": {
    "execution": {
     "iopub.execute_input": "2024-03-18T18:32:31.386931Z",
     "iopub.status.busy": "2024-03-18T18:32:31.386453Z",
     "iopub.status.idle": "2024-03-18T18:32:31.411990Z",
     "shell.execute_reply": "2024-03-18T18:32:31.410455Z"
    },
    "papermill": {
     "duration": 0.041551,
     "end_time": "2024-03-18T18:32:31.415123",
     "exception": false,
     "start_time": "2024-03-18T18:32:31.373572",
     "status": "completed"
    },
    "tags": []
   },
   "outputs": [
    {
     "data": {
      "text/html": [
       "<div>\n",
       "<style scoped>\n",
       "    .dataframe tbody tr th:only-of-type {\n",
       "        vertical-align: middle;\n",
       "    }\n",
       "\n",
       "    .dataframe tbody tr th {\n",
       "        vertical-align: top;\n",
       "    }\n",
       "\n",
       "    .dataframe thead th {\n",
       "        text-align: right;\n",
       "    }\n",
       "</style>\n",
       "<table border=\"1\" class=\"dataframe\">\n",
       "  <thead>\n",
       "    <tr style=\"text-align: right;\">\n",
       "      <th></th>\n",
       "      <th>rank</th>\n",
       "      <th>year</th>\n",
       "      <th>rating</th>\n",
       "    </tr>\n",
       "  </thead>\n",
       "  <tbody>\n",
       "    <tr>\n",
       "      <th>count</th>\n",
       "      <td>250.000000</td>\n",
       "      <td>250.000000</td>\n",
       "      <td>250.000000</td>\n",
       "    </tr>\n",
       "    <tr>\n",
       "      <th>mean</th>\n",
       "      <td>125.500000</td>\n",
       "      <td>1986.360000</td>\n",
       "      <td>8.307200</td>\n",
       "    </tr>\n",
       "    <tr>\n",
       "      <th>std</th>\n",
       "      <td>72.312977</td>\n",
       "      <td>25.125356</td>\n",
       "      <td>0.229081</td>\n",
       "    </tr>\n",
       "    <tr>\n",
       "      <th>min</th>\n",
       "      <td>1.000000</td>\n",
       "      <td>1921.000000</td>\n",
       "      <td>8.000000</td>\n",
       "    </tr>\n",
       "    <tr>\n",
       "      <th>25%</th>\n",
       "      <td>63.250000</td>\n",
       "      <td>1966.250000</td>\n",
       "      <td>8.100000</td>\n",
       "    </tr>\n",
       "    <tr>\n",
       "      <th>50%</th>\n",
       "      <td>125.500000</td>\n",
       "      <td>1994.000000</td>\n",
       "      <td>8.200000</td>\n",
       "    </tr>\n",
       "    <tr>\n",
       "      <th>75%</th>\n",
       "      <td>187.750000</td>\n",
       "      <td>2006.000000</td>\n",
       "      <td>8.400000</td>\n",
       "    </tr>\n",
       "    <tr>\n",
       "      <th>max</th>\n",
       "      <td>250.000000</td>\n",
       "      <td>2022.000000</td>\n",
       "      <td>9.300000</td>\n",
       "    </tr>\n",
       "  </tbody>\n",
       "</table>\n",
       "</div>"
      ],
      "text/plain": [
       "             rank         year      rating\n",
       "count  250.000000   250.000000  250.000000\n",
       "mean   125.500000  1986.360000    8.307200\n",
       "std     72.312977    25.125356    0.229081\n",
       "min      1.000000  1921.000000    8.000000\n",
       "25%     63.250000  1966.250000    8.100000\n",
       "50%    125.500000  1994.000000    8.200000\n",
       "75%    187.750000  2006.000000    8.400000\n",
       "max    250.000000  2022.000000    9.300000"
      ]
     },
     "execution_count": 9,
     "metadata": {},
     "output_type": "execute_result"
    }
   ],
   "source": [
    "#stats about rank,year and ratings variables\n",
    "data.describe()"
   ]
  },
  {
   "cell_type": "markdown",
   "id": "78166066",
   "metadata": {
    "papermill": {
     "duration": 0.010862,
     "end_time": "2024-03-18T18:32:31.438501",
     "exception": false,
     "start_time": "2024-03-18T18:32:31.427639",
     "status": "completed"
    },
    "tags": []
   },
   "source": [
    "**Rating:**\n",
    "-the average rating for top 250 movies is 8.3072\n",
    "-the max rating is 9.3 \n",
    "-the min rating is 8.0\n",
    "**Year**\n",
    "-the newest movie was in 2022\n",
    "-the oldest movie was in 1921"
   ]
  },
  {
   "cell_type": "code",
   "execution_count": 10,
   "id": "5c3fb3d6",
   "metadata": {
    "execution": {
     "iopub.execute_input": "2024-03-18T18:32:31.462652Z",
     "iopub.status.busy": "2024-03-18T18:32:31.462208Z",
     "iopub.status.idle": "2024-03-18T18:32:31.470656Z",
     "shell.execute_reply": "2024-03-18T18:32:31.469294Z"
    },
    "papermill": {
     "duration": 0.023761,
     "end_time": "2024-03-18T18:32:31.473238",
     "exception": false,
     "start_time": "2024-03-18T18:32:31.449477",
     "status": "completed"
    },
    "tags": []
   },
   "outputs": [
    {
     "data": {
      "text/plain": [
       "Index(['rank', 'name', 'year', 'rating', 'genre', 'certificate', 'run_time',\n",
       "       'tagline', 'budget', 'box_office', 'casts', 'directors', 'writers'],\n",
       "      dtype='object')"
      ]
     },
     "execution_count": 10,
     "metadata": {},
     "output_type": "execute_result"
    }
   ],
   "source": [
    "data.columns"
   ]
  },
  {
   "cell_type": "code",
   "execution_count": 11,
   "id": "973fb24c",
   "metadata": {
    "execution": {
     "iopub.execute_input": "2024-03-18T18:32:31.498051Z",
     "iopub.status.busy": "2024-03-18T18:32:31.497526Z",
     "iopub.status.idle": "2024-03-18T18:32:31.507677Z",
     "shell.execute_reply": "2024-03-18T18:32:31.506540Z"
    },
    "papermill": {
     "duration": 0.026328,
     "end_time": "2024-03-18T18:32:31.510887",
     "exception": false,
     "start_time": "2024-03-18T18:32:31.484559",
     "status": "completed"
    },
    "tags": []
   },
   "outputs": [],
   "source": [
    "#the average rating per year\n",
    "avg_rate=data.groupby('year')['rating'].mean()"
   ]
  },
  {
   "cell_type": "code",
   "execution_count": 12,
   "id": "b7da0e84",
   "metadata": {
    "execution": {
     "iopub.execute_input": "2024-03-18T18:32:31.538048Z",
     "iopub.status.busy": "2024-03-18T18:32:31.537043Z",
     "iopub.status.idle": "2024-03-18T18:32:32.046602Z",
     "shell.execute_reply": "2024-03-18T18:32:32.045260Z"
    },
    "papermill": {
     "duration": 0.526182,
     "end_time": "2024-03-18T18:32:32.050025",
     "exception": false,
     "start_time": "2024-03-18T18:32:31.523843",
     "status": "completed"
    },
    "tags": []
   },
   "outputs": [
    {
     "data": {
      "image/png": "[encoded data removed]",
      "text/plain": [
       "<Figure size 1200x600 with 1 Axes>"
      ]
     },
     "metadata": {},
     "output_type": "display_data"
    }
   ],
   "source": [
    "plt.figure(figsize=(12, 6))\n",
    "avg_rate.plot(marker='*', color='pink', linestyle='-')\n",
    "plt.title('Average Rating per Year')\n",
    "plt.xlabel('Year')\n",
    "plt.ylabel('Average Rating')\n",
    "plt.xticks(rotation=45)\n",
    "plt.show()"
   ]
  },
  {
   "cell_type": "code",
   "execution_count": 13,
   "id": "8e2ca669",
   "metadata": {
    "execution": {
     "iopub.execute_input": "2024-03-18T18:32:32.079726Z",
     "iopub.status.busy": "2024-03-18T18:32:32.078462Z",
     "iopub.status.idle": "2024-03-18T18:32:32.094085Z",
     "shell.execute_reply": "2024-03-18T18:32:32.092424Z"
    },
    "papermill": {
     "duration": 0.033739,
     "end_time": "2024-03-18T18:32:32.097414",
     "exception": false,
     "start_time": "2024-03-18T18:32:32.063675",
     "status": "completed"
    },
    "tags": []
   },
   "outputs": [
    {
     "data": {
      "text/plain": [
       "directors\n",
       "Frank Darabont              8.950000\n",
       "Francis Ford Coppola        8.900000\n",
       "Peter Jackson               8.866667\n",
       "T.J. Gnanavel               8.800000\n",
       "Irvin Kershner              8.700000\n",
       "                              ...   \n",
       "Brad Bird                   8.050000\n",
       "Terry Jones                 8.000000\n",
       "Richard Attenborough        8.000000\n",
       "Ron Clements,John Musker    8.000000\n",
       "Kevin Costner               8.000000\n",
       "Name: rating, Length: 160, dtype: float64"
      ]
     },
     "execution_count": 13,
     "metadata": {},
     "output_type": "execute_result"
    }
   ],
   "source": [
    "#the average rating for each director \n",
    "data.groupby('directors')['rating'].mean().sort_values(ascending=False)"
   ]
  },
  {
   "cell_type": "code",
   "execution_count": 14,
   "id": "7b040de6",
   "metadata": {
    "execution": {
     "iopub.execute_input": "2024-03-18T18:32:32.127642Z",
     "iopub.status.busy": "2024-03-18T18:32:32.127178Z",
     "iopub.status.idle": "2024-03-18T18:32:32.151373Z",
     "shell.execute_reply": "2024-03-18T18:32:32.149999Z"
    },
    "papermill": {
     "duration": 0.04303,
     "end_time": "2024-03-18T18:32:32.155144",
     "exception": false,
     "start_time": "2024-03-18T18:32:32.112114",
     "status": "completed"
    },
    "tags": []
   },
   "outputs": [
    {
     "data": {
      "text/html": [
       "<div>\n",
       "<style scoped>\n",
       "    .dataframe tbody tr th:only-of-type {\n",
       "        vertical-align: middle;\n",
       "    }\n",
       "\n",
       "    .dataframe tbody tr th {\n",
       "        vertical-align: top;\n",
       "    }\n",
       "\n",
       "    .dataframe thead th {\n",
       "        text-align: right;\n",
       "    }\n",
       "</style>\n",
       "<table border=\"1\" class=\"dataframe\">\n",
       "  <thead>\n",
       "    <tr style=\"text-align: right;\">\n",
       "      <th></th>\n",
       "      <th>rating</th>\n",
       "      <th>directors</th>\n",
       "    </tr>\n",
       "    <tr>\n",
       "      <th>name</th>\n",
       "      <th></th>\n",
       "      <th></th>\n",
       "    </tr>\n",
       "  </thead>\n",
       "  <tbody>\n",
       "    <tr>\n",
       "      <th>The Shawshank Redemption</th>\n",
       "      <td>9.3</td>\n",
       "      <td>Frank Darabont</td>\n",
       "    </tr>\n",
       "    <tr>\n",
       "      <th>The Godfather</th>\n",
       "      <td>9.2</td>\n",
       "      <td>Francis Ford Coppola</td>\n",
       "    </tr>\n",
       "    <tr>\n",
       "      <th>The Dark Knight</th>\n",
       "      <td>9.0</td>\n",
       "      <td>Christopher Nolan</td>\n",
       "    </tr>\n",
       "    <tr>\n",
       "      <th>The Godfather Part II</th>\n",
       "      <td>9.0</td>\n",
       "      <td>Francis Ford Coppola</td>\n",
       "    </tr>\n",
       "    <tr>\n",
       "      <th>12 Angry Men</th>\n",
       "      <td>9.0</td>\n",
       "      <td>Sidney Lumet</td>\n",
       "    </tr>\n",
       "    <tr>\n",
       "      <th>Schindler's List</th>\n",
       "      <td>9.0</td>\n",
       "      <td>Steven Spielberg</td>\n",
       "    </tr>\n",
       "    <tr>\n",
       "      <th>The Lord of the Rings: The Return of the King</th>\n",
       "      <td>9.0</td>\n",
       "      <td>Peter Jackson</td>\n",
       "    </tr>\n",
       "    <tr>\n",
       "      <th>Pulp Fiction</th>\n",
       "      <td>8.9</td>\n",
       "      <td>Quentin Tarantino</td>\n",
       "    </tr>\n",
       "    <tr>\n",
       "      <th>The Lord of the Rings: The Fellowship of the Ring</th>\n",
       "      <td>8.8</td>\n",
       "      <td>Peter Jackson</td>\n",
       "    </tr>\n",
       "    <tr>\n",
       "      <th>The Good, the Bad and the Ugly</th>\n",
       "      <td>8.8</td>\n",
       "      <td>Sergio Leone</td>\n",
       "    </tr>\n",
       "  </tbody>\n",
       "</table>\n",
       "</div>"
      ],
      "text/plain": [
       "                                                   rating  \\\n",
       "name                                                        \n",
       "The Shawshank Redemption                              9.3   \n",
       "The Godfather                                         9.2   \n",
       "The Dark Knight                                       9.0   \n",
       "The Godfather Part II                                 9.0   \n",
       "12 Angry Men                                          9.0   \n",
       "Schindler's List                                      9.0   \n",
       "The Lord of the Rings: The Return of the King         9.0   \n",
       "Pulp Fiction                                          8.9   \n",
       "The Lord of the Rings: The Fellowship of the Ring     8.8   \n",
       "The Good, the Bad and the Ugly                        8.8   \n",
       "\n",
       "                                                              directors  \n",
       "name                                                                     \n",
       "The Shawshank Redemption                                 Frank Darabont  \n",
       "The Godfather                                      Francis Ford Coppola  \n",
       "The Dark Knight                                       Christopher Nolan  \n",
       "The Godfather Part II                              Francis Ford Coppola  \n",
       "12 Angry Men                                               Sidney Lumet  \n",
       "Schindler's List                                       Steven Spielberg  \n",
       "The Lord of the Rings: The Return of the King             Peter Jackson  \n",
       "Pulp Fiction                                          Quentin Tarantino  \n",
       "The Lord of the Rings: The Fellowship of the Ring         Peter Jackson  \n",
       "The Good, the Bad and the Ugly                             Sergio Leone  "
      ]
     },
     "execution_count": 14,
     "metadata": {},
     "output_type": "execute_result"
    }
   ],
   "source": [
    "#display top 10 highest rated movies \n",
    "top10=data.nlargest(10,'rating')[['name','rating','directors']].set_index('name')\n",
    "top10"
   ]
  },
  {
   "cell_type": "code",
   "execution_count": 15,
   "id": "8fece842",
   "metadata": {
    "execution": {
     "iopub.execute_input": "2024-03-18T18:32:32.183474Z",
     "iopub.status.busy": "2024-03-18T18:32:32.183052Z",
     "iopub.status.idle": "2024-03-18T18:32:33.417951Z",
     "shell.execute_reply": "2024-03-18T18:32:33.416661Z"
    },
    "papermill": {
     "duration": 1.252693,
     "end_time": "2024-03-18T18:32:33.420724",
     "exception": false,
     "start_time": "2024-03-18T18:32:32.168031",
     "status": "completed"
    },
    "tags": []
   },
   "outputs": [
    {
     "data": {
      "text/plain": [
       "<Axes: xlabel='rating', ylabel='name'>"
      ]
     },
     "execution_count": 15,
     "metadata": {},
     "output_type": "execute_result"
    },
    {
     "data": {
      "image/png": "[encoded data removed]",
      "text/plain": [
       "<Figure size 640x480 with 1 Axes>"
      ]
     },
     "metadata": {},
     "output_type": "display_data"
    }
   ],
   "source": [
    "#barplot \n",
    "sns.barplot(x='rating',y=top10.index,data=top10,hue='directors',dodge=False)"
   ]
  },
  {
   "cell_type": "code",
   "execution_count": 16,
   "id": "ca361cc8",
   "metadata": {
    "execution": {
     "iopub.execute_input": "2024-03-18T18:32:33.453509Z",
     "iopub.status.busy": "2024-03-18T18:32:33.453098Z",
     "iopub.status.idle": "2024-03-18T18:32:33.467147Z",
     "shell.execute_reply": "2024-03-18T18:32:33.465412Z"
    },
    "papermill": {
     "duration": 0.034844,
     "end_time": "2024-03-18T18:32:33.470285",
     "exception": false,
     "start_time": "2024-03-18T18:32:33.435441",
     "status": "completed"
    },
    "tags": []
   },
   "outputs": [
    {
     "data": {
      "text/plain": [
       "year\n",
       "1995    8\n",
       "2004    7\n",
       "2009    6\n",
       "1957    6\n",
       "2003    6\n",
       "       ..\n",
       "1941    1\n",
       "1958    1\n",
       "2022    1\n",
       "1987    1\n",
       "1934    1\n",
       "Name: count, Length: 86, dtype: int64"
      ]
     },
     "execution_count": 16,
     "metadata": {},
     "output_type": "execute_result"
    }
   ],
   "source": [
    "#number of movies per Year \n",
    "data['year'].value_counts()"
   ]
  },
  {
   "cell_type": "code",
   "execution_count": 17,
   "id": "bb9d0ae0",
   "metadata": {
    "execution": {
     "iopub.execute_input": "2024-03-18T18:32:33.504495Z",
     "iopub.status.busy": "2024-03-18T18:32:33.503689Z",
     "iopub.status.idle": "2024-03-18T18:32:33.940171Z",
     "shell.execute_reply": "2024-03-18T18:32:33.939002Z"
    },
    "papermill": {
     "duration": 0.457759,
     "end_time": "2024-03-18T18:32:33.942930",
     "exception": false,
     "start_time": "2024-03-18T18:32:33.485171",
     "status": "completed"
    },
    "tags": []
   },
   "outputs": [
    {
     "data": {
      "image/png": "[encoded data removed]",
      "text/plain": [
       "<Figure size 640x480 with 1 Axes>"
      ]
     },
     "metadata": {},
     "output_type": "display_data"
    }
   ],
   "source": [
    "#showing the years with more than 4 movies released\n",
    "sns.countplot(x='year',data=data[data['year'].map(data['year'].value_counts()) > 4])\n",
    "plt.title('Movies per year')\n",
    "plt.xticks(rotation=45)\n",
    "plt.show()"
   ]
  },
  {
   "cell_type": "code",
   "execution_count": 18,
   "id": "678277b4",
   "metadata": {
    "execution": {
     "iopub.execute_input": "2024-03-18T18:32:33.977558Z",
     "iopub.status.busy": "2024-03-18T18:32:33.976435Z",
     "iopub.status.idle": "2024-03-18T18:32:33.988750Z",
     "shell.execute_reply": "2024-03-18T18:32:33.987417Z"
    },
    "papermill": {
     "duration": 0.031591,
     "end_time": "2024-03-18T18:32:33.991359",
     "exception": false,
     "start_time": "2024-03-18T18:32:33.959768",
     "status": "completed"
    },
    "tags": []
   },
   "outputs": [
    {
     "data": {
      "text/plain": [
       "177"
      ]
     },
     "execution_count": 18,
     "metadata": {},
     "output_type": "execute_result"
    }
   ],
   "source": [
    "len(data[data['genre'].str.contains('Drama',case=False)])\n",
    "  "
   ]
  },
  {
   "cell_type": "markdown",
   "id": "8d784f41",
   "metadata": {
    "papermill": {
     "duration": 0.015022,
     "end_time": "2024-03-18T18:32:34.021183",
     "exception": false,
     "start_time": "2024-03-18T18:32:34.006161",
     "status": "completed"
    },
    "tags": []
   },
   "source": [
    "**177/250 top movies are drama**"
   ]
  },
  {
   "cell_type": "code",
   "execution_count": 19,
   "id": "69b65b48",
   "metadata": {
    "execution": {
     "iopub.execute_input": "2024-03-18T18:32:34.057193Z",
     "iopub.status.busy": "2024-03-18T18:32:34.056347Z",
     "iopub.status.idle": "2024-03-18T18:32:34.066063Z",
     "shell.execute_reply": "2024-03-18T18:32:34.065149Z"
    },
    "papermill": {
     "duration": 0.028969,
     "end_time": "2024-03-18T18:32:34.068807",
     "exception": false,
     "start_time": "2024-03-18T18:32:34.039838",
     "status": "completed"
    },
    "tags": []
   },
   "outputs": [
    {
     "name": "stdout",
     "output_type": "stream",
     "text": [
      "['Drama', 'Crime', 'Action', 'Biography', 'History', 'Adventure', 'Western', 'Romance', 'Sci-Fi', 'Fantasy', 'Mystery', 'Family', 'Thriller', 'War', 'Comedy', 'Animation', 'Music', 'Horror', 'Film-Noir', 'Musical', 'Sport']\n",
      "there are 21 genres\n"
     ]
    }
   ],
   "source": [
    "#how many genres are in this dataset \n",
    "#creating list and split the genres\n",
    "list=[]\n",
    "for i in data ['genre']:\n",
    "     list.append(i.split(','))\n",
    "list2=[]\n",
    "for i in list:\n",
    "    for j in i:\n",
    "        list2.append(j)\n",
    "#find unique values \n",
    "uni_list=[]\n",
    "for i in list2:\n",
    "    if i not in uni_list:\n",
    "        uni_list.append (i)\n",
    "print(uni_list)\n",
    "print(\"there are\",len(uni_list),\"genres\")"
   ]
  },
  {
   "cell_type": "code",
   "execution_count": 20,
   "id": "576f6306",
   "metadata": {
    "execution": {
     "iopub.execute_input": "2024-03-18T18:32:34.101868Z",
     "iopub.status.busy": "2024-03-18T18:32:34.100897Z",
     "iopub.status.idle": "2024-03-18T18:32:34.107150Z",
     "shell.execute_reply": "2024-03-18T18:32:34.106035Z"
    },
    "papermill": {
     "duration": 0.026873,
     "end_time": "2024-03-18T18:32:34.110509",
     "exception": false,
     "start_time": "2024-03-18T18:32:34.083636",
     "status": "completed"
    },
    "tags": []
   },
   "outputs": [],
   "source": [
    "#how many movies were made for each genre?\n",
    "from collections import Counter"
   ]
  },
  {
   "cell_type": "code",
   "execution_count": 21,
   "id": "0e27e183",
   "metadata": {
    "execution": {
     "iopub.execute_input": "2024-03-18T18:32:34.143041Z",
     "iopub.status.busy": "2024-03-18T18:32:34.142120Z",
     "iopub.status.idle": "2024-03-18T18:32:34.150144Z",
     "shell.execute_reply": "2024-03-18T18:32:34.149153Z"
    },
    "papermill": {
     "duration": 0.027215,
     "end_time": "2024-03-18T18:32:34.152460",
     "exception": false,
     "start_time": "2024-03-18T18:32:34.125245",
     "status": "completed"
    },
    "tags": []
   },
   "outputs": [
    {
     "data": {
      "text/plain": [
       "Counter({'Drama': 177,\n",
       "         'Adventure': 60,\n",
       "         'Crime': 51,\n",
       "         'Action': 50,\n",
       "         'Comedy': 45,\n",
       "         'Mystery': 31,\n",
       "         'Thriller': 30,\n",
       "         'Biography': 29,\n",
       "         'Romance': 23,\n",
       "         'War': 23,\n",
       "         'Animation': 23,\n",
       "         'Sci-Fi': 20,\n",
       "         'Fantasy': 14,\n",
       "         'Family': 13,\n",
       "         'History': 10,\n",
       "         'Western': 7,\n",
       "         'Horror': 5,\n",
       "         'Sport': 5,\n",
       "         'Music': 4,\n",
       "         'Film-Noir': 4,\n",
       "         'Musical': 1})"
      ]
     },
     "execution_count": 21,
     "metadata": {},
     "output_type": "execute_result"
    }
   ],
   "source": [
    "genre_list=Counter(list2)\n",
    "genre_list"
   ]
  },
  {
   "cell_type": "code",
   "execution_count": 22,
   "id": "7ff1bc3b",
   "metadata": {
    "execution": {
     "iopub.execute_input": "2024-03-18T18:32:34.184401Z",
     "iopub.status.busy": "2024-03-18T18:32:34.183592Z",
     "iopub.status.idle": "2024-03-18T18:32:34.677592Z",
     "shell.execute_reply": "2024-03-18T18:32:34.676098Z"
    },
    "papermill": {
     "duration": 0.51336,
     "end_time": "2024-03-18T18:32:34.680398",
     "exception": false,
     "start_time": "2024-03-18T18:32:34.167038",
     "status": "completed"
    },
    "tags": []
   },
   "outputs": [
    {
     "data": {
      "image/png": "[encoded data removed]",
      "text/plain": [
       "<Figure size 1300x600 with 1 Axes>"
      ]
     },
     "metadata": {},
     "output_type": "display_data"
    }
   ],
   "source": [
    "genre_df=pd.DataFrame.from_dict(genre_list, orient='index').reset_index()\n",
    "genre_df.columns = ['Genre', 'Count']\n",
    "plt.figure(figsize=(13, 6))\n",
    "sns.barplot(x='Genre', y='Count', data=genre_df)\n",
    "plt.title(\"Count of Movies per Genre\")\n",
    "plt.xticks(rotation=45)\n",
    "plt.show()"
   ]
  },
  {
   "cell_type": "code",
   "execution_count": 23,
   "id": "b74e7043",
   "metadata": {
    "execution": {
     "iopub.execute_input": "2024-03-18T18:32:34.715736Z",
     "iopub.status.busy": "2024-03-18T18:32:34.715225Z",
     "iopub.status.idle": "2024-03-18T18:32:34.727764Z",
     "shell.execute_reply": "2024-03-18T18:32:34.726407Z"
    },
    "papermill": {
     "duration": 0.03329,
     "end_time": "2024-03-18T18:32:34.730735",
     "exception": false,
     "start_time": "2024-03-18T18:32:34.697445",
     "status": "completed"
    },
    "tags": []
   },
   "outputs": [
    {
     "data": {
      "text/plain": [
       "directors\n",
       "Martin Scorsese       7\n",
       "Christopher Nolan     7\n",
       "Steven Spielberg      7\n",
       "Stanley Kubrick       7\n",
       "Akira Kurosawa        7\n",
       "                     ..\n",
       "Jean-Pierre Jeunet    1\n",
       "Orson Welles          1\n",
       "Thomas Vinterberg     1\n",
       "Elem Klimov           1\n",
       "Kevin Costner         1\n",
       "Name: count, Length: 160, dtype: int64"
      ]
     },
     "execution_count": 23,
     "metadata": {},
     "output_type": "execute_result"
    }
   ],
   "source": [
    "director_counts = data['directors'].explode().value_counts()\n",
    "director_counts"
   ]
  },
  {
   "cell_type": "code",
   "execution_count": 24,
   "id": "cc7ef410",
   "metadata": {
    "execution": {
     "iopub.execute_input": "2024-03-18T18:32:34.767758Z",
     "iopub.status.busy": "2024-03-18T18:32:34.766537Z",
     "iopub.status.idle": "2024-03-18T18:32:35.259220Z",
     "shell.execute_reply": "2024-03-18T18:32:35.258169Z"
    },
    "papermill": {
     "duration": 0.514044,
     "end_time": "2024-03-18T18:32:35.262035",
     "exception": false,
     "start_time": "2024-03-18T18:32:34.747991",
     "status": "completed"
    },
    "tags": []
   },
   "outputs": [
    {
     "data": {
      "image/png": "[encoded data removed]",
      "text/plain": [
       "<Figure size 1200x600 with 1 Axes>"
      ]
     },
     "metadata": {},
     "output_type": "display_data"
    }
   ],
   "source": [
    "plt.figure(figsize=(12, 6))\n",
    "director_counts.head(10).plot(kind='bar', color='skyblue')\n",
    "plt.title('Top Directors with More Movies')\n",
    "plt.xlabel('Director')\n",
    "plt.ylabel('Number of Movies')\n",
    "plt.tight_layout()\n",
    "plt.show()"
   ]
  }
 ],
 "metadata": {
  "kaggle": {
   "accelerator": "none",
   "dataSources": [
    {
     "datasetId": 2889785,
     "sourceId": 4982570,
     "sourceType": "datasetVersion"
    }
   ],
   "dockerImageVersionId": 30664,
   "isGpuEnabled": false,
   "isInternetEnabled": false,
   "language": "python",
   "sourceType": "notebook"
  },
  "kernelspec": {
   "display_name": "Python 3",
   "language": "python",
   "name": "python3"
  },
  "language_info": {
   "codemirror_mode": {
    "name": "ipython",
    "version": 3
   },
   "file_extension": ".py",
   "mimetype": "text/x-python",
   "name": "python",
   "nbconvert_exporter": "python",
   "pygments_lexer": "ipython3",
   "version": "3.10.13"
  },
  "papermill": {
   "default_parameters": {},
   "duration": 11.296442,
   "end_time": "2024-03-18T18:32:36.007752",
   "environment_variables": {},
   "exception": null,
   "input_path": "__notebook__.ipynb",
   "output_path": "__notebook__.ipynb",
   "parameters": {},
   "start_time": "2024-03-18T18:32:24.711310",
   "version": "2.5.0"
  }
 },
 "nbformat": 4,
 "nbformat_minor": 5
}
